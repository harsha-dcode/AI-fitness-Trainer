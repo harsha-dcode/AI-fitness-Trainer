{
 "cells": [
  {
   "cell_type": "markdown",
   "id": "821ed004",
   "metadata": {},
   "source": [
    "## User Input & Workout Plan Generator"
   ]
  },
  {
   "cell_type": "code",
   "execution_count": null,
   "id": "44aa6362",
   "metadata": {},
   "outputs": [],
   "source": [
    "\n",
    "from sklearn.tree import DecisionTreeClassifier\n",
    "import numpy as np\n",
    "\n",
    "# Define workout dataset: age, weight, goal (1: lose weight, 2: gain muscle, 3: maintain)\n",
    "X = np.array([[25, 70, 1], [30, 85, 2], [22, 60, 1], [35, 90, 3], [45, 75, 3]])\n",
    "# Workout types: 1 = Cardio, 2 = Weight Training, 3 = Mixed\n",
    "y = np.array([1, 2, 1, 2, 3])\n",
    "\n",
    "# Train the model\n",
    "clf = DecisionTreeClassifier()\n",
    "clf.fit(X, y)\n",
    "\n",
    "# Predict workout based on user input\n",
    "user_data = np.array([[28, 65, 1]])  # age 28, weight 65, goal: lose weight\n",
    "workout_prediction = clf.predict(user_data)\n",
    "\n",
    "workout_types = {1: 'Cardio', 2: 'Weight Training', 3: 'Mixed Workout'}\n",
    "print(f\"Recommended Workout: {workout_types[workout_prediction[0]]}\")\n",
    "\n"
   ]
  },
  {
   "cell_type": "markdown",
   "id": "b6e9d15e",
   "metadata": {},
   "source": [
    "###### Expandable Dataset: You can expand this by creating a larger dataset with more user profiles and corresponding workout routines. For now, this simple decision tree can make basic recommendations."
   ]
  },
  {
   "cell_type": "code",
   "execution_count": null,
   "id": "beb9b276",
   "metadata": {},
   "outputs": [],
   "source": []
  },
  {
   "cell_type": "markdown",
   "id": "c111d2ed",
   "metadata": {},
   "source": [
    "##  Real-Time Posture Detection Using OpenPose"
   ]
  },
  {
   "cell_type": "code",
   "execution_count": null,
   "id": "5883e880",
   "metadata": {},
   "outputs": [],
   "source": [
    "import cv2\n",
    "import numpy as np\n",
    "import time\n",
    "\n",
    "# Load the pre-trained OpenPose model\n",
    "protoFile = \"pose_deploy_linevec.prototxt\"\n",
    "weightsFile = \"pose_iter_440000.caffemodel\"\n",
    "nPoints = 18\n",
    "POSE_PAIRS = [[1, 2], [2, 3], [3, 4], [1, 5], [5, 6], [6, 7], [1, 8], [8, 9], [9, 10], [1, 11], [11, 12], [12, 13], [1, 0]]\n",
    "\n",
    "net = cv2.dnn.readNetFromCaffe(protoFile, weightsFile)\n",
    "\n",
    "# Video capture from webcam\n",
    "cap = cv2.VideoCapture(0)\n",
    "\n",
    "while True:\n",
    "    ret, frame = cap.read()\n",
    "    if not ret:\n",
    "        break\n",
    "\n",
    "    # Get frame dimensions\n",
    "    frameWidth = frame.shape[1]\n",
    "    frameHeight = frame.shape[0]\n",
    "\n",
    "    # Prepare the frame for input into the OpenPose model\n",
    "    inpBlob = cv2.dnn.blobFromImage(frame, 1.0 / 255, (368, 368), (0, 0, 0), swapRB=False, crop=False)\n",
    "\n",
    "    # Feed the model\n",
    "    net.setInput(inpBlob)\n",
    "    output = net.forward()\n",
    "\n",
    "    H, W = output.shape[2], output.shape[3]\n",
    "\n",
    "    # Process the output and draw keypoints on the frame\n",
    "    points = []\n",
    "    for i in range(nPoints):\n",
    "        probMap = output[0, i, :, :]\n",
    "        minVal, prob, minLoc, point = cv2.minMaxLoc(probMap)\n",
    "        x = (frameWidth * point[0]) / W\n",
    "        y = (frameHeight * point[1]) / H\n",
    "\n",
    "        if prob > 0.1:\n",
    "            cv2.circle(frame, (int(x), int(y)), 8, (0, 255, 255), thickness=-1, lineType=cv2.FILLED)\n",
    "            points.append((int(x), int(y)))\n",
    "        else:\n",
    "            points.append(None)\n",
    "\n",
    "    # Display the keypoint detection\n",
    "    cv2.imshow('Output', frame)\n",
    "\n",
    "    if cv2.waitKey(1) & 0xFF == ord('q'):\n",
    "        break\n",
    "\n",
    "cap.release()\n",
    "cv2.destroyAllWindows()\n",
    "\n"
   ]
  },
  {
   "cell_type": "markdown",
   "id": "713eafed",
   "metadata": {},
   "source": [
    "##  Simple App Interface"
   ]
  },
  {
   "cell_type": "code",
   "execution_count": null,
   "id": "ab1fc41f",
   "metadata": {},
   "outputs": [],
   "source": [
    "\n",
    "from flask import Flask, render_template, request\n",
    "\n",
    "app = Flask(__name__)\n",
    "\n",
    "@app.route('/')\n",
    "def home():\n",
    "    return render_template('index.html')\n",
    "\n",
    "@app.route('/get_workout', methods=['POST'])\n",
    "def get_workout():\n",
    "    age = request.form['age']\n",
    "    weight = request.form['weight']\n",
    "    goal = request.form['goal']\n",
    "\n",
    "    # Call the workout recommendation logic here\n",
    "    workout = \"Cardio\"  # Example: based on the AI logic\n",
    "\n",
    "    return f\"Recommended Workout: {workout}\"\n",
    "\n",
    "if __name__ == '__main__':\n",
    "    app.run(debug=True)\n"
   ]
  },
  {
   "cell_type": "markdown",
   "id": "cdc1d15f",
   "metadata": {},
   "source": [
    "\n",
    "## Machine Learning and Financial Modeling"
   ]
  },
  {
   "cell_type": "code",
   "execution_count": null,
   "id": "013d5252",
   "metadata": {},
   "outputs": [],
   "source": [
    "\n",
    "from sklearn.linear_model import LinearRegression\n",
    "import numpy as np\n",
    "import matplotlib.pyplot as plt\n",
    "\n",
    "# Sales data for the last 6 months\n",
    "months = np.array([1, 2, 3, 4, 5, 6]).reshape(-1, 1)\n",
    "sales = np.array([200, 220, 250, 300, 340, 400])\n",
    "\n",
    "# Train a linear regression model\n",
    "model = LinearRegression()\n",
    "model.fit(months, sales)\n",
    "\n",
    "# Forecast sales for the next 3 months\n",
    "future_months = np.array([7, 8, 9]).reshape(-1, 1)\n",
    "predicted_sales = model.predict(future_months)\n",
    "\n",
    "# Plot the result\n",
    "plt.plot(months, sales, color='blue', label='Actual Sales')\n",
    "plt.plot(future_months, predicted_sales, color='green', label='Predicted Sales')\n",
    "plt.xlabel('Months')\n",
    "plt.ylabel('Sales')\n",
    "plt.legend()\n",
    "plt.show()\n",
    "\n",
    "# Financial Model (Assume Rs. 500 per user)\n",
    "cost_per_month = 2000\n",
    "revenue_per_user = 500\n",
    "predicted_revenue = revenue_per_user * predicted_sales - cost_per_month\n",
    "print(predicted_revenue)\n"
   ]
  },
  {
   "cell_type": "code",
   "execution_count": null,
   "id": "5199aa4d",
   "metadata": {},
   "outputs": [],
   "source": []
  },
  {
   "cell_type": "code",
   "execution_count": null,
   "id": "b2e9088c",
   "metadata": {},
   "outputs": [],
   "source": [
    "\n"
   ]
  },
  {
   "cell_type": "code",
   "execution_count": null,
   "id": "663c97f0",
   "metadata": {},
   "outputs": [],
   "source": []
  },
  {
   "cell_type": "code",
   "execution_count": null,
   "id": "fbb8e2d3",
   "metadata": {},
   "outputs": [],
   "source": []
  }
 ],
 "metadata": {
  "kernelspec": {
   "display_name": "Python 3 (ipykernel)",
   "language": "python",
   "name": "python3"
  },
  "language_info": {
   "codemirror_mode": {
    "name": "ipython",
    "version": 3
   },
   "file_extension": ".py",
   "mimetype": "text/x-python",
   "name": "python",
   "nbconvert_exporter": "python",
   "pygments_lexer": "ipython3",
   "version": "3.9.12"
  }
 },
 "nbformat": 4,
 "nbformat_minor": 5
}
